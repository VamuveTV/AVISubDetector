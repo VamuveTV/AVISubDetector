{
  "cells": [
    {
      "cell_type": "markdown",
      "metadata": {
        "id": "view-in-github",
        "colab_type": "text"
      },
      "source": [
        "<a href=\"https://colab.research.google.com/github/VamuveTV/AVISubDetector/blob/main/copy_of_stablediffusion_foocusui.ipynb\" target=\"_parent\"><img src=\"https://colab.research.google.com/assets/colab-badge.svg\" alt=\"Open In Colab\"/></a>"
      ]
    },
    {
      "cell_type": "code",
      "execution_count": null,
      "metadata": {
        "id": "VjYy0F2gZIPR"
      },
      "outputs": [],
      "source": [
        "#@markdown # 👈 **Fooocus**\n",
        "#@markdown [project sourse](https://github.com/lllyasviel/Fooocus), [other notebooks](https://www.patreon.com/marat_ai)\n",
        "\n",
        "#@markdown _MidJorney inspired UI for Stable Diffusion_\n",
        "\n",
        "from IPython.display import clear_output\n",
        "\n",
        "!pip install pygit2==1.12.2\n",
        "clear_output()\n",
        "%cd /content\n",
        "!git clone https://github.com/lllyasviel/Fooocus.git\n",
        "%cd /content/Fooocus\n",
        "clear_output()\n",
        "\n",
        "!python entry_with_update.py --share"
      ]
    }
  ],
  "metadata": {
    "accelerator": "GPU",
    "colab": {
      "provenance": [],
      "toc_visible": true,
      "include_colab_link": true
    },
    "kernelspec": {
      "display_name": "Python 3",
      "name": "python3"
    },
    "language_info": {
      "name": "python"
    }
  },
  "nbformat": 4,
  "nbformat_minor": 0
}