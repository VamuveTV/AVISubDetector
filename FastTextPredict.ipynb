{
  "nbformat": 4,
  "nbformat_minor": 0,
  "metadata": {
    "colab": {
      "provenance": [],
      "toc_visible": true,
      "include_colab_link": true
    },
    "kernelspec": {
      "name": "python3",
      "display_name": "Python 3"
    },
    "language_info": {
      "name": "python"
    }
  },
  "cells": [
    {
      "cell_type": "markdown",
      "metadata": {
        "id": "view-in-github",
        "colab_type": "text"
      },
      "source": [
        "<a href=\"https://colab.research.google.com/github/VamuveTV/AVISubDetector/blob/main/FastTextPredict.ipynb\" target=\"_parent\"><img src=\"https://colab.research.google.com/assets/colab-badge.svg\" alt=\"Open In Colab\"/></a>"
      ]
    },
    {
      "cell_type": "code",
      "execution_count": null,
      "metadata": {
        "colab": {
          "base_uri": "https://localhost:8080/"
        },
        "id": "ihVftsbxsTtB",
        "outputId": "cb631fcc-df46-4e39-e805-c3573ab50285"
      },
      "outputs": [
        {
          "output_type": "stream",
          "name": "stdout",
          "text": [
            "Collecting transformers\n",
            "  Downloading transformers-4.34.1-py3-none-any.whl (7.7 MB)\n",
            "\u001b[2K     \u001b[90m━━━━━━━━━━━━━━━━━━━━━━━━━━━━━━━━━━━━━━━━\u001b[0m \u001b[32m7.7/7.7 MB\u001b[0m \u001b[31m22.2 MB/s\u001b[0m eta \u001b[36m0:00:00\u001b[0m\n",
            "\u001b[?25hCollecting fasttext\n",
            "  Downloading fasttext-0.9.2.tar.gz (68 kB)\n",
            "\u001b[2K     \u001b[90m━━━━━━━━━━━━━━━━━━━━━━━━━━━━━━━━━━━━━━━━\u001b[0m \u001b[32m68.8/68.8 kB\u001b[0m \u001b[31m9.9 MB/s\u001b[0m eta \u001b[36m0:00:00\u001b[0m\n",
            "\u001b[?25h  Preparing metadata (setup.py) ... \u001b[?25l\u001b[?25hdone\n",
            "Collecting datasets\n",
            "  Downloading datasets-2.14.6-py3-none-any.whl (493 kB)\n",
            "\u001b[2K     \u001b[90m━━━━━━━━━━━━━━━━━━━━━━━━━━━━━━━━━━━━━━━━\u001b[0m \u001b[32m493.7/493.7 kB\u001b[0m \u001b[31m33.8 MB/s\u001b[0m eta \u001b[36m0:00:00\u001b[0m\n",
            "\u001b[?25hRequirement already satisfied: filelock in /usr/local/lib/python3.10/dist-packages (from transformers) (3.12.4)\n",
            "Collecting huggingface-hub<1.0,>=0.16.4 (from transformers)\n",
            "  Downloading huggingface_hub-0.18.0-py3-none-any.whl (301 kB)\n",
            "\u001b[2K     \u001b[90m━━━━━━━━━━━━━━━━━━━━━━━━━━━━━━━━━━━━━━━━\u001b[0m \u001b[32m302.0/302.0 kB\u001b[0m \u001b[31m33.6 MB/s\u001b[0m eta \u001b[36m0:00:00\u001b[0m\n",
            "\u001b[?25hRequirement already satisfied: numpy>=1.17 in /usr/local/lib/python3.10/dist-packages (from transformers) (1.23.5)\n",
            "Requirement already satisfied: packaging>=20.0 in /usr/local/lib/python3.10/dist-packages (from transformers) (23.2)\n",
            "Requirement already satisfied: pyyaml>=5.1 in /usr/local/lib/python3.10/dist-packages (from transformers) (6.0.1)\n",
            "Requirement already satisfied: regex!=2019.12.17 in /usr/local/lib/python3.10/dist-packages (from transformers) (2023.6.3)\n",
            "Requirement already satisfied: requests in /usr/local/lib/python3.10/dist-packages (from transformers) (2.31.0)\n",
            "Collecting tokenizers<0.15,>=0.14 (from transformers)\n",
            "  Downloading tokenizers-0.14.1-cp310-cp310-manylinux_2_17_x86_64.manylinux2014_x86_64.whl (3.8 MB)\n",
            "\u001b[2K     \u001b[90m━━━━━━━━━━━━━━━━━━━━━━━━━━━━━━━━━━━━━━━━\u001b[0m \u001b[32m3.8/3.8 MB\u001b[0m \u001b[31m60.2 MB/s\u001b[0m eta \u001b[36m0:00:00\u001b[0m\n",
            "\u001b[?25hCollecting safetensors>=0.3.1 (from transformers)\n",
            "  Downloading safetensors-0.4.0-cp310-cp310-manylinux_2_17_x86_64.manylinux2014_x86_64.whl (1.3 MB)\n",
            "\u001b[2K     \u001b[90m━━━━━━━━━━━━━━━━━━━━━━━━━━━━━━━━━━━━━━━━\u001b[0m \u001b[32m1.3/1.3 MB\u001b[0m \u001b[31m58.9 MB/s\u001b[0m eta \u001b[36m0:00:00\u001b[0m\n",
            "\u001b[?25hRequirement already satisfied: tqdm>=4.27 in /usr/local/lib/python3.10/dist-packages (from transformers) (4.66.1)\n",
            "Collecting pybind11>=2.2 (from fasttext)\n",
            "  Using cached pybind11-2.11.1-py3-none-any.whl (227 kB)\n",
            "Requirement already satisfied: setuptools>=0.7.0 in /usr/local/lib/python3.10/dist-packages (from fasttext) (67.7.2)\n",
            "Requirement already satisfied: pyarrow>=8.0.0 in /usr/local/lib/python3.10/dist-packages (from datasets) (9.0.0)\n",
            "Collecting dill<0.3.8,>=0.3.0 (from datasets)\n",
            "  Downloading dill-0.3.7-py3-none-any.whl (115 kB)\n",
            "\u001b[2K     \u001b[90m━━━━━━━━━━━━━━━━━━━━━━━━━━━━━━━━━━━━━━━━\u001b[0m \u001b[32m115.3/115.3 kB\u001b[0m \u001b[31m14.1 MB/s\u001b[0m eta \u001b[36m0:00:00\u001b[0m\n",
            "\u001b[?25hRequirement already satisfied: pandas in /usr/local/lib/python3.10/dist-packages (from datasets) (1.5.3)\n",
            "Requirement already satisfied: xxhash in /usr/local/lib/python3.10/dist-packages (from datasets) (3.4.1)\n",
            "Collecting multiprocess (from datasets)\n",
            "  Downloading multiprocess-0.70.15-py310-none-any.whl (134 kB)\n",
            "\u001b[2K     \u001b[90m━━━━━━━━━━━━━━━━━━━━━━━━━━━━━━━━━━━━━━━━\u001b[0m \u001b[32m134.8/134.8 kB\u001b[0m \u001b[31m14.8 MB/s\u001b[0m eta \u001b[36m0:00:00\u001b[0m\n",
            "\u001b[?25hRequirement already satisfied: fsspec[http]<=2023.10.0,>=2023.1.0 in /usr/local/lib/python3.10/dist-packages (from datasets) (2023.6.0)\n",
            "Requirement already satisfied: aiohttp in /usr/local/lib/python3.10/dist-packages (from datasets) (3.8.6)\n",
            "Requirement already satisfied: attrs>=17.3.0 in /usr/local/lib/python3.10/dist-packages (from aiohttp->datasets) (23.1.0)\n",
            "Requirement already satisfied: charset-normalizer<4.0,>=2.0 in /usr/local/lib/python3.10/dist-packages (from aiohttp->datasets) (3.3.1)\n",
            "Requirement already satisfied: multidict<7.0,>=4.5 in /usr/local/lib/python3.10/dist-packages (from aiohttp->datasets) (6.0.4)\n",
            "Requirement already satisfied: async-timeout<5.0,>=4.0.0a3 in /usr/local/lib/python3.10/dist-packages (from aiohttp->datasets) (4.0.3)\n",
            "Requirement already satisfied: yarl<2.0,>=1.0 in /usr/local/lib/python3.10/dist-packages (from aiohttp->datasets) (1.9.2)\n",
            "Requirement already satisfied: frozenlist>=1.1.1 in /usr/local/lib/python3.10/dist-packages (from aiohttp->datasets) (1.4.0)\n",
            "Requirement already satisfied: aiosignal>=1.1.2 in /usr/local/lib/python3.10/dist-packages (from aiohttp->datasets) (1.3.1)\n",
            "Requirement already satisfied: typing-extensions>=3.7.4.3 in /usr/local/lib/python3.10/dist-packages (from huggingface-hub<1.0,>=0.16.4->transformers) (4.5.0)\n",
            "Requirement already satisfied: idna<4,>=2.5 in /usr/local/lib/python3.10/dist-packages (from requests->transformers) (3.4)\n",
            "Requirement already satisfied: urllib3<3,>=1.21.1 in /usr/local/lib/python3.10/dist-packages (from requests->transformers) (2.0.7)\n",
            "Requirement already satisfied: certifi>=2017.4.17 in /usr/local/lib/python3.10/dist-packages (from requests->transformers) (2023.7.22)\n",
            "Collecting huggingface-hub<1.0,>=0.16.4 (from transformers)\n",
            "  Downloading huggingface_hub-0.17.3-py3-none-any.whl (295 kB)\n",
            "\u001b[2K     \u001b[90m━━━━━━━━━━━━━━━━━━━━━━━━━━━━━━━━━━━━━━━━\u001b[0m \u001b[32m295.0/295.0 kB\u001b[0m \u001b[31m24.5 MB/s\u001b[0m eta \u001b[36m0:00:00\u001b[0m\n",
            "\u001b[?25hRequirement already satisfied: python-dateutil>=2.8.1 in /usr/local/lib/python3.10/dist-packages (from pandas->datasets) (2.8.2)\n",
            "Requirement already satisfied: pytz>=2020.1 in /usr/local/lib/python3.10/dist-packages (from pandas->datasets) (2023.3.post1)\n",
            "Requirement already satisfied: six>=1.5 in /usr/local/lib/python3.10/dist-packages (from python-dateutil>=2.8.1->pandas->datasets) (1.16.0)\n",
            "Building wheels for collected packages: fasttext\n",
            "  Building wheel for fasttext (setup.py) ... \u001b[?25l\u001b[?25hdone\n",
            "  Created wheel for fasttext: filename=fasttext-0.9.2-cp310-cp310-linux_x86_64.whl size=4199771 sha256=0d0e91a9f20b7e2b0e113c00b2ae3a31946688ac0f1a8f46c3e6a50f63bce586\n",
            "  Stored in directory: /root/.cache/pip/wheels/a5/13/75/f811c84a8ab36eedbaef977a6a58a98990e8e0f1967f98f394\n",
            "Successfully built fasttext\n",
            "Installing collected packages: safetensors, pybind11, dill, multiprocess, huggingface-hub, fasttext, tokenizers, transformers, datasets\n",
            "Successfully installed datasets-2.14.6 dill-0.3.7 fasttext-0.9.2 huggingface-hub-0.17.3 multiprocess-0.70.15 pybind11-2.11.1 safetensors-0.4.0 tokenizers-0.14.1 transformers-4.34.1\n"
          ]
        }
      ],
      "source": [
        "!pip install transformers  fasttext datasets"
      ]
    },
    {
      "cell_type": "code",
      "source": [
        "!wget https://dldata-public.s3.us-east-2.amazonaws.com/simplebooks.zip"
      ],
      "metadata": {
        "colab": {
          "base_uri": "https://localhost:8080/"
        },
        "id": "_qoCDETbspK2",
        "outputId": "de888a6f-daa1-459d-fda6-03c7068b587b"
      },
      "execution_count": null,
      "outputs": [
        {
          "output_type": "stream",
          "name": "stdout",
          "text": [
            "--2023-10-27 10:40:29--  https://dldata-public.s3.us-east-2.amazonaws.com/simplebooks.zip\n",
            "Resolving dldata-public.s3.us-east-2.amazonaws.com (dldata-public.s3.us-east-2.amazonaws.com)... 52.219.176.194, 3.5.130.135, 3.5.130.179, ...\n",
            "Connecting to dldata-public.s3.us-east-2.amazonaws.com (dldata-public.s3.us-east-2.amazonaws.com)|52.219.176.194|:443... connected.\n",
            "HTTP request sent, awaiting response... 200 OK\n",
            "Length: 282386239 (269M) [application/zip]\n",
            "Saving to: ‘simplebooks.zip’\n",
            "\n",
            "simplebooks.zip     100%[===================>] 269.30M  32.9MB/s    in 8.3s    \n",
            "\n",
            "2023-10-27 10:40:38 (32.6 MB/s) - ‘simplebooks.zip’ saved [282386239/282386239]\n",
            "\n"
          ]
        }
      ]
    },
    {
      "cell_type": "code",
      "source": [],
      "metadata": {
        "id": "_ggU8eW9uNNi"
      },
      "execution_count": null,
      "outputs": []
    },
    {
      "cell_type": "code",
      "source": [
        "!unzip simplebooks.zip"
      ],
      "metadata": {
        "colab": {
          "base_uri": "https://localhost:8080/"
        },
        "id": "u_tShVYruNT_",
        "outputId": "44f474c7-2a47-4b68-8262-1a851fea21ca"
      },
      "execution_count": null,
      "outputs": [
        {
          "output_type": "stream",
          "name": "stdout",
          "text": [
            "Archive:  simplebooks.zip\n",
            "   creating: simplebooks/\n",
            "  inflating: simplebooks/README.md   \n",
            "   creating: simplebooks/simplebooks-2/\n",
            "   creating: simplebooks/simplebooks-2-raw/\n",
            "  inflating: simplebooks/simplebooks-2-raw/test.txt  \n",
            "  inflating: simplebooks/simplebooks-2-raw/train.txt  \n",
            "  inflating: simplebooks/simplebooks-2-raw/valid.txt  \n",
            "  inflating: simplebooks/simplebooks-2/test.txt  \n",
            "  inflating: simplebooks/simplebooks-2/train.txt  \n",
            "  inflating: simplebooks/simplebooks-2/train.vocab  \n",
            "  inflating: simplebooks/simplebooks-2/valid.txt  \n",
            "   creating: simplebooks/simplebooks-92/\n",
            "   creating: simplebooks/simplebooks-92-raw/\n",
            "  inflating: simplebooks/simplebooks-92-raw/test.txt  \n",
            "  inflating: simplebooks/simplebooks-92-raw/train.txt  "
          ]
        }
      ]
    },
    {
      "cell_type": "code",
      "source": [
        "from transformers import LlamaTokenizerFast\n",
        "tokenizer=LlamaTokenizerFast.from_pretrained('ccore/LLAMA-2-460m')\n",
        "data=[]\n",
        "with open('./simplebooks/simplebooks-2-raw/train.txt', 'r') as file:\n",
        "  for line in file:\n",
        "    ids=tokenizer(line)['input_ids']\n",
        "    n=0\n",
        "    temp=[]\n",
        "    for x in ids:\n",
        "     if n>0:\n",
        "       label=f'__label__'+str(x)\n",
        "       ids=' '.join(temp)\n",
        "       l=label+' '+ids\n",
        "       data.append(l)\n",
        "     temp.append(str(x))\n",
        "     n=n+1\n",
        "\n",
        "with open('./ft.txt','w') as file:\n",
        "  file.write('\\n'.join(data))\n",
        "\n"
      ],
      "metadata": {
        "id": "pIW6-VwMuRlz"
      },
      "execution_count": null,
      "outputs": []
    },
    {
      "cell_type": "code",
      "source": [
        "!git clone https://github.com/facebookresearch/fastText.git\n"
      ],
      "metadata": {
        "colab": {
          "base_uri": "https://localhost:8080/"
        },
        "id": "H8yOPJTpxOi-",
        "outputId": "1794444a-c58a-4856-b765-06948205518c"
      },
      "execution_count": null,
      "outputs": [
        {
          "output_type": "stream",
          "name": "stdout",
          "text": [
            "fatal: destination path 'fastText' already exists and is not an empty directory.\n",
            "\u001b[31mERROR: You must give at least one requirement to install (see \"pip help install\")\u001b[0m\u001b[31m\n",
            "\u001b[0m"
          ]
        }
      ]
    },
    {
      "cell_type": "code",
      "source": [
        "cd fastText\n"
      ],
      "metadata": {
        "colab": {
          "base_uri": "https://localhost:8080/"
        },
        "id": "luFI5IwqxeMp",
        "outputId": "8b8c15b6-933d-46cf-80ba-978ba1a0f782"
      },
      "execution_count": null,
      "outputs": [
        {
          "output_type": "stream",
          "name": "stdout",
          "text": [
            "/content/fastText\n"
          ]
        }
      ]
    },
    {
      "cell_type": "code",
      "source": [
        "!sudo python setup.py install"
      ],
      "metadata": {
        "colab": {
          "base_uri": "https://localhost:8080/"
        },
        "id": "Og9CWJnExrI0",
        "outputId": "2b4e45fd-3f73-40df-ad84-3a143d44f7a3"
      },
      "execution_count": null,
      "outputs": [
        {
          "output_type": "stream",
          "name": "stdout",
          "text": [
            "/usr/local/lib/python3.10/dist-packages/setuptools/dist.py:755: SetuptoolsDeprecationWarning: Invalid dash-separated options\n",
            "!!\n",
            "\n",
            "        ********************************************************************************\n",
            "        Usage of dash-separated 'description-file' will not be supported in future\n",
            "        versions. Please use the underscore name 'description_file' instead.\n",
            "\n",
            "        This deprecation is overdue, please update your project and remove deprecated\n",
            "        calls to avoid build errors in the future.\n",
            "\n",
            "        See https://setuptools.pypa.io/en/latest/userguide/declarative_config.html for details.\n",
            "        ********************************************************************************\n",
            "\n",
            "!!\n",
            "  opt = self.warn_dash_deprecation(opt, section)\n",
            "running install\n",
            "/usr/local/lib/python3.10/dist-packages/setuptools/_distutils/cmd.py:66: SetuptoolsDeprecationWarning: setup.py install is deprecated.\n",
            "!!\n",
            "\n",
            "        ********************************************************************************\n",
            "        Please avoid running ``setup.py`` directly.\n",
            "        Instead, use pypa/build, pypa/installer, pypa/build or\n",
            "        other standards-based tools.\n",
            "\n",
            "        See https://blog.ganssle.io/articles/2021/10/setup-py-deprecated.html for details.\n",
            "        ********************************************************************************\n",
            "\n",
            "!!\n",
            "  self.initialize_options()\n",
            "/usr/local/lib/python3.10/dist-packages/setuptools/_distutils/cmd.py:66: EasyInstallDeprecationWarning: easy_install command is deprecated.\n",
            "!!\n",
            "\n",
            "        ********************************************************************************\n",
            "        Please avoid running ``setup.py`` and ``easy_install``.\n",
            "        Instead, use pypa/build, pypa/installer, pypa/build or\n",
            "        other standards-based tools.\n",
            "\n",
            "        See https://github.com/pypa/setuptools/issues/917 for details.\n",
            "        ********************************************************************************\n",
            "\n",
            "!!\n",
            "  self.initialize_options()\n",
            "running bdist_egg\n",
            "running egg_info\n",
            "creating python/fasttext_module/fasttext.egg-info\n",
            "writing python/fasttext_module/fasttext.egg-info/PKG-INFO\n",
            "writing dependency_links to python/fasttext_module/fasttext.egg-info/dependency_links.txt\n",
            "writing requirements to python/fasttext_module/fasttext.egg-info/requires.txt\n",
            "writing top-level names to python/fasttext_module/fasttext.egg-info/top_level.txt\n",
            "writing manifest file 'python/fasttext_module/fasttext.egg-info/SOURCES.txt'\n",
            "reading manifest file 'python/fasttext_module/fasttext.egg-info/SOURCES.txt'\n",
            "reading manifest template 'MANIFEST.in'\n",
            "warning: no files found matching 'PATENTS'\n",
            "adding license file 'LICENSE'\n",
            "writing manifest file 'python/fasttext_module/fasttext.egg-info/SOURCES.txt'\n",
            "installing library code to build/bdist.linux-x86_64/egg\n",
            "running install_lib\n",
            "running build_py\n",
            "creating build\n",
            "creating build/lib.linux-x86_64-cpython-310\n",
            "creating build/lib.linux-x86_64-cpython-310/fasttext\n",
            "copying python/fasttext_module/fasttext/__init__.py -> build/lib.linux-x86_64-cpython-310/fasttext\n",
            "copying python/fasttext_module/fasttext/FastText.py -> build/lib.linux-x86_64-cpython-310/fasttext\n",
            "creating build/lib.linux-x86_64-cpython-310/fasttext/util\n",
            "copying python/fasttext_module/fasttext/util/__init__.py -> build/lib.linux-x86_64-cpython-310/fasttext/util\n",
            "copying python/fasttext_module/fasttext/util/util.py -> build/lib.linux-x86_64-cpython-310/fasttext/util\n",
            "creating build/lib.linux-x86_64-cpython-310/fasttext/tests\n",
            "copying python/fasttext_module/fasttext/tests/__init__.py -> build/lib.linux-x86_64-cpython-310/fasttext/tests\n",
            "copying python/fasttext_module/fasttext/tests/test_script.py -> build/lib.linux-x86_64-cpython-310/fasttext/tests\n",
            "copying python/fasttext_module/fasttext/tests/test_configurations.py -> build/lib.linux-x86_64-cpython-310/fasttext/tests\n",
            "running build_ext\n",
            "creating tmp\n",
            "x86_64-linux-gnu-gcc -Wno-unused-result -Wsign-compare -DNDEBUG -g -fwrapv -O2 -Wall -g -fstack-protector-strong -Wformat -Werror=format-security -g -fwrapv -O2 -fPIC -I/usr/include/python3.10 -c /tmp/tmphyoctf81.cpp -o tmp/tmphyoctf81.o -std=c++11\n",
            "x86_64-linux-gnu-gcc -Wno-unused-result -Wsign-compare -DNDEBUG -g -fwrapv -O2 -Wall -g -fstack-protector-strong -Wformat -Werror=format-security -g -fwrapv -O2 -fPIC -I/usr/include/python3.10 -c /tmp/tmpwp9d_p40.cpp -o tmp/tmpwp9d_p40.o -fvisibility=hidden\n",
            "building 'fasttext_pybind' extension\n",
            "creating build/temp.linux-x86_64-cpython-310\n",
            "creating build/temp.linux-x86_64-cpython-310/python\n",
            "creating build/temp.linux-x86_64-cpython-310/python/fasttext_module\n",
            "creating build/temp.linux-x86_64-cpython-310/python/fasttext_module/fasttext\n",
            "creating build/temp.linux-x86_64-cpython-310/python/fasttext_module/fasttext/pybind\n",
            "creating build/temp.linux-x86_64-cpython-310/src\n",
            "x86_64-linux-gnu-gcc -Wno-unused-result -Wsign-compare -DNDEBUG -g -fwrapv -O2 -Wall -g -fstack-protector-strong -Wformat -Werror=format-security -g -fwrapv -O2 -fPIC -I/usr/local/lib/python3.10/dist-packages/pybind11/include -I/usr/local/lib/python3.10/dist-packages/pybind11/include -Isrc -I/usr/include/python3.10 -c python/fasttext_module/fasttext/pybind/fasttext_pybind.cc -o build/temp.linux-x86_64-cpython-310/python/fasttext_module/fasttext/pybind/fasttext_pybind.o -DVERSION_INFO=\\\"0.9.2\\\" -std=c++11 -fvisibility=hidden\n",
            "\u001b[01m\u001b[Kpython/fasttext_module/fasttext/pybind/fasttext_pybind.cc:\u001b[m\u001b[K In lambda function:\n",
            "\u001b[01m\u001b[Kpython/fasttext_module/fasttext/pybind/fasttext_pybind.cc:347:35:\u001b[m\u001b[K \u001b[01;35m\u001b[Kwarning: \u001b[m\u001b[Kcomparison of integer expressions of different signedness: ‘\u001b[01m\u001b[Kint32_t\u001b[m\u001b[K’ {aka ‘\u001b[01m\u001b[Kint\u001b[m\u001b[K’} and ‘\u001b[01m\u001b[Kstd::vector<long int>::size_type\u001b[m\u001b[K’ {aka ‘\u001b[01m\u001b[Klong unsigned int\u001b[m\u001b[K’} [\u001b[01;35m\u001b[K\u001b]8;;https://gcc.gnu.org/onlinedocs/gcc/Warning-Options.html#index-Wsign-compare\u0007-Wsign-compare\u001b]8;;\u0007\u001b[m\u001b[K]\n",
            "  347 |             for (int32_t i = 0; \u001b[01;35m\u001b[Ki < vocab_freq.size()\u001b[m\u001b[K; i++) {\n",
            "      |                                 \u001b[01;35m\u001b[K~~^~~~~~~~~~~~~~~~~~~\u001b[m\u001b[K\n",
            "\u001b[01m\u001b[Kpython/fasttext_module/fasttext/pybind/fasttext_pybind.cc:\u001b[m\u001b[K In lambda function:\n",
            "\u001b[01m\u001b[Kpython/fasttext_module/fasttext/pybind/fasttext_pybind.cc:361:35:\u001b[m\u001b[K \u001b[01;35m\u001b[Kwarning: \u001b[m\u001b[Kcomparison of integer expressions of different signedness: ‘\u001b[01m\u001b[Kint32_t\u001b[m\u001b[K’ {aka ‘\u001b[01m\u001b[Kint\u001b[m\u001b[K’} and ‘\u001b[01m\u001b[Kstd::vector<long int>::size_type\u001b[m\u001b[K’ {aka ‘\u001b[01m\u001b[Klong unsigned int\u001b[m\u001b[K’} [\u001b[01;35m\u001b[K\u001b]8;;https://gcc.gnu.org/onlinedocs/gcc/Warning-Options.html#index-Wsign-compare\u0007-Wsign-compare\u001b]8;;\u0007\u001b[m\u001b[K]\n",
            "  361 |             for (int32_t i = 0; \u001b[01;35m\u001b[Ki < labels_freq.size()\u001b[m\u001b[K; i++) {\n",
            "      |                                 \u001b[01;35m\u001b[K~~^~~~~~~~~~~~~~~~~~~~\u001b[m\u001b[K\n",
            "x86_64-linux-gnu-gcc -Wno-unused-result -Wsign-compare -DNDEBUG -g -fwrapv -O2 -Wall -g -fstack-protector-strong -Wformat -Werror=format-security -g -fwrapv -O2 -fPIC -I/usr/local/lib/python3.10/dist-packages/pybind11/include -I/usr/local/lib/python3.10/dist-packages/pybind11/include -Isrc -I/usr/include/python3.10 -c src/args.cc -o build/temp.linux-x86_64-cpython-310/src/args.o -DVERSION_INFO=\\\"0.9.2\\\" -std=c++11 -fvisibility=hidden\n",
            "\u001b[01m\u001b[Ksrc/args.cc:\u001b[m\u001b[K In member function ‘\u001b[01m\u001b[Kvoid fasttext::Args::parseArgs(const std::vector<std::__cxx11::basic_string<char> >&)\u001b[m\u001b[K’:\n",
            "\u001b[01m\u001b[Ksrc/args.cc:120:23:\u001b[m\u001b[K \u001b[01;35m\u001b[Kwarning: \u001b[m\u001b[Kcomparison of integer expressions of different signedness: ‘\u001b[01m\u001b[Kint\u001b[m\u001b[K’ and ‘\u001b[01m\u001b[Kstd::vector<std::__cxx11::basic_string<char> >::size_type\u001b[m\u001b[K’ {aka ‘\u001b[01m\u001b[Klong unsigned int\u001b[m\u001b[K’} [\u001b[01;35m\u001b[K\u001b]8;;https://gcc.gnu.org/onlinedocs/gcc/Warning-Options.html#index-Wsign-compare\u0007-Wsign-compare\u001b]8;;\u0007\u001b[m\u001b[K]\n",
            "  120 |   for (int ai = 2; \u001b[01;35m\u001b[Kai < args.size()\u001b[m\u001b[K; ai += 2) {\n",
            "      |                    \u001b[01;35m\u001b[K~~~^~~~~~~~~~~~~\u001b[m\u001b[K\n",
            "\u001b[01m\u001b[Ksrc/args.cc:221:19:\u001b[m\u001b[K \u001b[01;35m\u001b[Kwarning: \u001b[m\u001b[Kcatching polymorphic type ‘\u001b[01m\u001b[Kclass std::out_of_range\u001b[m\u001b[K’ by value [\u001b[01;35m\u001b[K\u001b]8;;https://gcc.gnu.org/onlinedocs/gcc/Warning-Options.html#index-Wcatch-value=\u0007-Wcatch-value=\u001b]8;;\u0007\u001b[m\u001b[K]\n",
            "  221 |     } catch (std::\u001b[01;35m\u001b[Kout_of_range\u001b[m\u001b[K) {\n",
            "      |                   \u001b[01;35m\u001b[K^~~~~~~~~~~~\u001b[m\u001b[K\n",
            "x86_64-linux-gnu-gcc -Wno-unused-result -Wsign-compare -DNDEBUG -g -fwrapv -O2 -Wall -g -fstack-protector-strong -Wformat -Werror=format-security -g -fwrapv -O2 -fPIC -I/usr/local/lib/python3.10/dist-packages/pybind11/include -I/usr/local/lib/python3.10/dist-packages/pybind11/include -Isrc -I/usr/include/python3.10 -c src/autotune.cc -o build/temp.linux-x86_64-cpython-310/src/autotune.o -DVERSION_INFO=\\\"0.9.2\\\" -std=c++11 -fvisibility=hidden\n",
            "x86_64-linux-gnu-gcc -Wno-unused-result -Wsign-compare -DNDEBUG -g -fwrapv -O2 -Wall -g -fstack-protector-strong -Wformat -Werror=format-security -g -fwrapv -O2 -fPIC -I/usr/local/lib/python3.10/dist-packages/pybind11/include -I/usr/local/lib/python3.10/dist-packages/pybind11/include -Isrc -I/usr/include/python3.10 -c src/densematrix.cc -o build/temp.linux-x86_64-cpython-310/src/densematrix.o -DVERSION_INFO=\\\"0.9.2\\\" -std=c++11 -fvisibility=hidden\n",
            "\u001b[01m\u001b[Ksrc/densematrix.cc:\u001b[m\u001b[K In member function ‘\u001b[01m\u001b[Kvoid fasttext::DenseMatrix::uniform(fasttext::real, unsigned int, int32_t)\u001b[m\u001b[K’:\n",
            "\u001b[01m\u001b[Ksrc/densematrix.cc:48:23:\u001b[m\u001b[K \u001b[01;35m\u001b[Kwarning: \u001b[m\u001b[Kcomparison of integer expressions of different signedness: ‘\u001b[01m\u001b[Kint\u001b[m\u001b[K’ and ‘\u001b[01m\u001b[Kunsigned int\u001b[m\u001b[K’ [\u001b[01;35m\u001b[K\u001b]8;;https://gcc.gnu.org/onlinedocs/gcc/Warning-Options.html#index-Wsign-compare\u0007-Wsign-compare\u001b]8;;\u0007\u001b[m\u001b[K]\n",
            "   48 |     for (int i = 0; \u001b[01;35m\u001b[Ki < thread\u001b[m\u001b[K; i++) {\n",
            "      |                     \u001b[01;35m\u001b[K~~^~~~~~~~\u001b[m\u001b[K\n",
            "\u001b[01m\u001b[Ksrc/densematrix.cc:51:27:\u001b[m\u001b[K \u001b[01;35m\u001b[Kwarning: \u001b[m\u001b[Kcomparison of integer expressions of different signedness: ‘\u001b[01m\u001b[Kint32_t\u001b[m\u001b[K’ {aka ‘\u001b[01m\u001b[Kint\u001b[m\u001b[K’} and ‘\u001b[01m\u001b[Kstd::vector<std::thread>::size_type\u001b[m\u001b[K’ {aka ‘\u001b[01m\u001b[Klong unsigned int\u001b[m\u001b[K’} [\u001b[01;35m\u001b[K\u001b]8;;https://gcc.gnu.org/onlinedocs/gcc/Warning-Options.html#index-Wsign-compare\u0007-Wsign-compare\u001b]8;;\u0007\u001b[m\u001b[K]\n",
            "   51 |     for (int32_t i = 0; \u001b[01;35m\u001b[Ki < threads.size()\u001b[m\u001b[K; i++) {\n",
            "      |                         \u001b[01;35m\u001b[K~~^~~~~~~~~~~~~~~~\u001b[m\u001b[K\n",
            "x86_64-linux-gnu-gcc -Wno-unused-result -Wsign-compare -DNDEBUG -g -fwrapv -O2 -Wall -g -fstack-protector-strong -Wformat -Werror=format-security -g -fwrapv -O2 -fPIC -I/usr/local/lib/python3.10/dist-packages/pybind11/include -I/usr/local/lib/python3.10/dist-packages/pybind11/include -Isrc -I/usr/include/python3.10 -c src/dictionary.cc -o build/temp.linux-x86_64-cpython-310/src/dictionary.o -DVERSION_INFO=\\\"0.9.2\\\" -std=c++11 -fvisibility=hidden\n",
            "\u001b[01m\u001b[Ksrc/dictionary.cc:\u001b[m\u001b[K In member function ‘\u001b[01m\u001b[Kvoid fasttext::Dictionary::computeSubwords(const string&, std::vector<int>&, std::vector<std::__cxx11::basic_string<char> >*) const\u001b[m\u001b[K’:\n",
            "\u001b[01m\u001b[Ksrc/dictionary.cc:181:52:\u001b[m\u001b[K \u001b[01;35m\u001b[Kwarning: \u001b[m\u001b[Kcomparison of integer expressions of different signedness: ‘\u001b[01m\u001b[Ksize_t\u001b[m\u001b[K’ {aka ‘\u001b[01m\u001b[Klong unsigned int\u001b[m\u001b[K’} and ‘\u001b[01m\u001b[Kint\u001b[m\u001b[K’ [\u001b[01;35m\u001b[K\u001b]8;;https://gcc.gnu.org/onlinedocs/gcc/Warning-Options.html#index-Wsign-compare\u0007-Wsign-compare\u001b]8;;\u0007\u001b[m\u001b[K]\n",
            "  181 |     for (size_t j = i, n = 1; j < word.size() && \u001b[01;35m\u001b[Kn <= args_->maxn\u001b[m\u001b[K; n++) {\n",
            "      |                                                  \u001b[01;35m\u001b[K~~^~~~~~~~~~~~~~\u001b[m\u001b[K\n",
            "\u001b[01m\u001b[Ksrc/dictionary.cc:186:13:\u001b[m\u001b[K \u001b[01;35m\u001b[Kwarning: \u001b[m\u001b[Kcomparison of integer expressions of different signedness: ‘\u001b[01m\u001b[Ksize_t\u001b[m\u001b[K’ {aka ‘\u001b[01m\u001b[Klong unsigned int\u001b[m\u001b[K’} and ‘\u001b[01m\u001b[Kint\u001b[m\u001b[K’ [\u001b[01;35m\u001b[K\u001b]8;;https://gcc.gnu.org/onlinedocs/gcc/Warning-Options.html#index-Wsign-compare\u0007-Wsign-compare\u001b]8;;\u0007\u001b[m\u001b[K]\n",
            "  186 |       if (\u001b[01;35m\u001b[Kn >= args_->minn\u001b[m\u001b[K && !(n == 1 && (i == 0 || j == word.size()))) {\n",
            "      |           \u001b[01;35m\u001b[K~~^~~~~~~~~~~~~~\u001b[m\u001b[K\n",
            "\u001b[01m\u001b[Ksrc/dictionary.cc:\u001b[m\u001b[K In member function ‘\u001b[01m\u001b[Kvoid fasttext::Dictionary::initNgrams()\u001b[m\u001b[K’:\n",
            "\u001b[01m\u001b[Ksrc/dictionary.cc:198:24:\u001b[m\u001b[K \u001b[01;35m\u001b[Kwarning: \u001b[m\u001b[Kcomparison of integer expressions of different signedness: ‘\u001b[01m\u001b[Ksize_t\u001b[m\u001b[K’ {aka ‘\u001b[01m\u001b[Klong unsigned int\u001b[m\u001b[K’} and ‘\u001b[01m\u001b[Kint32_t\u001b[m\u001b[K’ {aka ‘\u001b[01m\u001b[Kint\u001b[m\u001b[K’} [\u001b[01;35m\u001b[K\u001b]8;;https://gcc.gnu.org/onlinedocs/gcc/Warning-Options.html#index-Wsign-compare\u0007-Wsign-compare\u001b]8;;\u0007\u001b[m\u001b[K]\n",
            "  198 |   for (size_t i = 0; \u001b[01;35m\u001b[Ki < size_\u001b[m\u001b[K; i++) {\n",
            "      |                      \u001b[01;35m\u001b[K~~^~~~~~~\u001b[m\u001b[K\n",
            "\u001b[01m\u001b[Ksrc/dictionary.cc:\u001b[m\u001b[K In member function ‘\u001b[01m\u001b[Kvoid fasttext::Dictionary::initTableDiscard()\u001b[m\u001b[K’:\n",
            "\u001b[01m\u001b[Ksrc/dictionary.cc:296:24:\u001b[m\u001b[K \u001b[01;35m\u001b[Kwarning: \u001b[m\u001b[Kcomparison of integer expressions of different signedness: ‘\u001b[01m\u001b[Ksize_t\u001b[m\u001b[K’ {aka ‘\u001b[01m\u001b[Klong unsigned int\u001b[m\u001b[K’} and ‘\u001b[01m\u001b[Kint32_t\u001b[m\u001b[K’ {aka ‘\u001b[01m\u001b[Kint\u001b[m\u001b[K’} [\u001b[01;35m\u001b[K\u001b]8;;https://gcc.gnu.org/onlinedocs/gcc/Warning-Options.html#index-Wsign-compare\u0007-Wsign-compare\u001b]8;;\u0007\u001b[m\u001b[K]\n",
            "  296 |   for (size_t i = 0; \u001b[01;35m\u001b[Ki < size_\u001b[m\u001b[K; i++) {\n",
            "      |                      \u001b[01;35m\u001b[K~~^~~~~~~\u001b[m\u001b[K\n",
            "\u001b[01m\u001b[Ksrc/dictionary.cc:\u001b[m\u001b[K In member function ‘\u001b[01m\u001b[Kvoid fasttext::Dictionary::addWordNgrams(std::vector<int>&, const std::vector<int>&, int32_t) const\u001b[m\u001b[K’:\n",
            "\u001b[01m\u001b[Ksrc/dictionary.cc:316:25:\u001b[m\u001b[K \u001b[01;35m\u001b[Kwarning: \u001b[m\u001b[Kcomparison of integer expressions of different signedness: ‘\u001b[01m\u001b[Kint32_t\u001b[m\u001b[K’ {aka ‘\u001b[01m\u001b[Kint\u001b[m\u001b[K’} and ‘\u001b[01m\u001b[Kstd::vector<int>::size_type\u001b[m\u001b[K’ {aka ‘\u001b[01m\u001b[Klong unsigned int\u001b[m\u001b[K’} [\u001b[01;35m\u001b[K\u001b]8;;https://gcc.gnu.org/onlinedocs/gcc/Warning-Options.html#index-Wsign-compare\u0007-Wsign-compare\u001b]8;;\u0007\u001b[m\u001b[K]\n",
            "  316 |   for (int32_t i = 0; \u001b[01;35m\u001b[Ki < hashes.size()\u001b[m\u001b[K; i++) {\n",
            "      |                       \u001b[01;35m\u001b[K~~^~~~~~~~~~~~~~~\u001b[m\u001b[K\n",
            "\u001b[01m\u001b[Ksrc/dictionary.cc:318:31:\u001b[m\u001b[K \u001b[01;35m\u001b[Kwarning: \u001b[m\u001b[Kcomparison of integer expressions of different signedness: ‘\u001b[01m\u001b[Kint32_t\u001b[m\u001b[K’ {aka ‘\u001b[01m\u001b[Kint\u001b[m\u001b[K’} and ‘\u001b[01m\u001b[Kstd::vector<int>::size_type\u001b[m\u001b[K’ {aka ‘\u001b[01m\u001b[Klong unsigned int\u001b[m\u001b[K’} [\u001b[01;35m\u001b[K\u001b]8;;https://gcc.gnu.org/onlinedocs/gcc/Warning-Options.html#index-Wsign-compare\u0007-Wsign-compare\u001b]8;;\u0007\u001b[m\u001b[K]\n",
            "  318 |     for (int32_t j = i + 1; \u001b[01;35m\u001b[Kj < hashes.size()\u001b[m\u001b[K && j < i + n; j++) {\n",
            "      |                             \u001b[01;35m\u001b[K~~^~~~~~~~~~~~~~~\u001b[m\u001b[K\n",
            "\u001b[01m\u001b[Ksrc/dictionary.cc:\u001b[m\u001b[K In member function ‘\u001b[01m\u001b[Kvoid fasttext::Dictionary::prune(std::vector<int>&)\u001b[m\u001b[K’:\n",
            "\u001b[01m\u001b[Ksrc/dictionary.cc:515:25:\u001b[m\u001b[K \u001b[01;35m\u001b[Kwarning: \u001b[m\u001b[Kcomparison of integer expressions of different signedness: ‘\u001b[01m\u001b[Kint32_t\u001b[m\u001b[K’ {aka ‘\u001b[01m\u001b[Kint\u001b[m\u001b[K’} and ‘\u001b[01m\u001b[Kstd::vector<fasttext::entry>::size_type\u001b[m\u001b[K’ {aka ‘\u001b[01m\u001b[Klong unsigned int\u001b[m\u001b[K’} [\u001b[01;35m\u001b[K\u001b]8;;https://gcc.gnu.org/onlinedocs/gcc/Warning-Options.html#index-Wsign-compare\u0007-Wsign-compare\u001b]8;;\u0007\u001b[m\u001b[K]\n",
            "  515 |   for (int32_t i = 0; \u001b[01;35m\u001b[Ki < words_.size()\u001b[m\u001b[K; i++) {\n",
            "      |                       \u001b[01;35m\u001b[K~~^~~~~~~~~~~~~~~\u001b[m\u001b[K\n",
            "\u001b[01m\u001b[Ksrc/dictionary.cc:517:12:\u001b[m\u001b[K \u001b[01;35m\u001b[Kwarning: \u001b[m\u001b[Kcomparison of integer expressions of different signedness: ‘\u001b[01m\u001b[Kint32_t\u001b[m\u001b[K’ {aka ‘\u001b[01m\u001b[Kint\u001b[m\u001b[K’} and ‘\u001b[01m\u001b[Kstd::vector<int>::size_type\u001b[m\u001b[K’ {aka ‘\u001b[01m\u001b[Klong unsigned int\u001b[m\u001b[K’} [\u001b[01;35m\u001b[K\u001b]8;;https://gcc.gnu.org/onlinedocs/gcc/Warning-Options.html#index-Wsign-compare\u0007-Wsign-compare\u001b]8;;\u0007\u001b[m\u001b[K]\n",
            "  517 |         (\u001b[01;35m\u001b[Kj < words.size()\u001b[m\u001b[K && words[j] == i)) {\n",
            "      |          \u001b[01;35m\u001b[K~~^~~~~~~~~~~~~~\u001b[m\u001b[K\n",
            "x86_64-linux-gnu-gcc -Wno-unused-result -Wsign-compare -DNDEBUG -g -fwrapv -O2 -Wall -g -fstack-protector-strong -Wformat -Werror=format-security -g -fwrapv -O2 -fPIC -I/usr/local/lib/python3.10/dist-packages/pybind11/include -I/usr/local/lib/python3.10/dist-packages/pybind11/include -Isrc -I/usr/include/python3.10 -c src/fasttext.cc -o build/temp.linux-x86_64-cpython-310/src/fasttext.o -DVERSION_INFO=\\\"0.9.2\\\" -std=c++11 -fvisibility=hidden\n",
            "\u001b[01m\u001b[Ksrc/fasttext.cc:\u001b[m\u001b[K In member function ‘\u001b[01m\u001b[Kvoid fasttext::FastText::getWordVector(fasttext::Vector&, const string&) const\u001b[m\u001b[K’:\n",
            "\u001b[01m\u001b[Ksrc/fasttext.cc:114:21:\u001b[m\u001b[K \u001b[01;35m\u001b[Kwarning: \u001b[m\u001b[Kcomparison of integer expressions of different signedness: ‘\u001b[01m\u001b[Kint\u001b[m\u001b[K’ and ‘\u001b[01m\u001b[Kstd::vector<int>::size_type\u001b[m\u001b[K’ {aka ‘\u001b[01m\u001b[Klong unsigned int\u001b[m\u001b[K’} [\u001b[01;35m\u001b[K\u001b]8;;https://gcc.gnu.org/onlinedocs/gcc/Warning-Options.html#index-Wsign-compare\u0007-Wsign-compare\u001b]8;;\u0007\u001b[m\u001b[K]\n",
            "  114 |   for (int i = 0; \u001b[01;35m\u001b[Ki < ngrams.size()\u001b[m\u001b[K; i++) {\n",
            "      |                   \u001b[01;35m\u001b[K~~^~~~~~~~~~~~~~~\u001b[m\u001b[K\n",
            "\u001b[01m\u001b[Ksrc/fasttext.cc:\u001b[m\u001b[K In lambda function:\n",
            "\u001b[01m\u001b[Ksrc/fasttext.cc:314:12:\u001b[m\u001b[K \u001b[01;35m\u001b[Kwarning: \u001b[m\u001b[Kcomparison of integer expressions of different signedness: ‘\u001b[01m\u001b[Ksize_t\u001b[m\u001b[K’ {aka ‘\u001b[01m\u001b[Klong unsigned int\u001b[m\u001b[K’} and ‘\u001b[01m\u001b[Kconst int\u001b[m\u001b[K’ [\u001b[01;35m\u001b[K\u001b]8;;https://gcc.gnu.org/onlinedocs/gcc/Warning-Options.html#index-Wsign-compare\u0007-Wsign-compare\u001b]8;;\u0007\u001b[m\u001b[K]\n",
            "  314 |     if (\u001b[01;35m\u001b[Ki1 == eosid\u001b[m\u001b[K && i2 == eosid) { // satisfy strict weak ordering\n",
            "      |         \u001b[01;35m\u001b[K~~~^~~~~~~~\u001b[m\u001b[K\n",
            "\u001b[01m\u001b[Ksrc/fasttext.cc:314:27:\u001b[m\u001b[K \u001b[01;35m\u001b[Kwarning: \u001b[m\u001b[Kcomparison of integer expressions of different signedness: ‘\u001b[01m\u001b[Ksize_t\u001b[m\u001b[K’ {aka ‘\u001b[01m\u001b[Klong unsigned int\u001b[m\u001b[K’} and ‘\u001b[01m\u001b[Kconst int\u001b[m\u001b[K’ [\u001b[01;35m\u001b[K\u001b]8;;https://gcc.gnu.org/onlinedocs/gcc/Warning-Options.html#index-Wsign-compare\u0007-Wsign-compare\u001b]8;;\u0007\u001b[m\u001b[K]\n",
            "  314 |     if (i1 == eosid && \u001b[01;35m\u001b[Ki2 == eosid\u001b[m\u001b[K) { // satisfy strict weak ordering\n",
            "      |                        \u001b[01;35m\u001b[K~~~^~~~~~~~\u001b[m\u001b[K\n",
            "\u001b[01m\u001b[Ksrc/fasttext.cc:317:18:\u001b[m\u001b[K \u001b[01;35m\u001b[Kwarning: \u001b[m\u001b[Kcomparison of integer expressions of different signedness: ‘\u001b[01m\u001b[Kconst int\u001b[m\u001b[K’ and ‘\u001b[01m\u001b[Ksize_t\u001b[m\u001b[K’ {aka ‘\u001b[01m\u001b[Klong unsigned int\u001b[m\u001b[K’} [\u001b[01;35m\u001b[K\u001b]8;;https://gcc.gnu.org/onlinedocs/gcc/Warning-Options.html#index-Wsign-compare\u0007-Wsign-compare\u001b]8;;\u0007\u001b[m\u001b[K]\n",
            "  317 |     return \u001b[01;35m\u001b[Keosid == i1\u001b[m\u001b[K || (eosid != i2 && norms[i1] > norms[i2]);\n",
            "      |            \u001b[01;35m\u001b[K~~~~~~^~~~~\u001b[m\u001b[K\n",
            "\u001b[01m\u001b[Ksrc/fasttext.cc:317:34:\u001b[m\u001b[K \u001b[01;35m\u001b[Kwarning: \u001b[m\u001b[Kcomparison of integer expressions of different signedness: ‘\u001b[01m\u001b[Kconst int\u001b[m\u001b[K’ and ‘\u001b[01m\u001b[Ksize_t\u001b[m\u001b[K’ {aka ‘\u001b[01m\u001b[Klong unsigned int\u001b[m\u001b[K’} [\u001b[01;35m\u001b[K\u001b]8;;https://gcc.gnu.org/onlinedocs/gcc/Warning-Options.html#index-Wsign-compare\u0007-Wsign-compare\u001b]8;;\u0007\u001b[m\u001b[K]\n",
            "  317 |     return eosid == i1 || (\u001b[01;35m\u001b[Keosid != i2\u001b[m\u001b[K && norms[i1] > norms[i2]);\n",
            "      |                            \u001b[01;35m\u001b[K~~~~~~^~~~~\u001b[m\u001b[K\n",
            "\u001b[01m\u001b[Ksrc/fasttext.cc:\u001b[m\u001b[K In member function ‘\u001b[01m\u001b[Kvoid fasttext::FastText::quantize(const fasttext::Args&, const TrainCallback&)\u001b[m\u001b[K’:\n",
            "\u001b[01m\u001b[Ksrc/fasttext.cc:337:40:\u001b[m\u001b[K \u001b[01;35m\u001b[Kwarning: \u001b[m\u001b[Kcomparison of integer expressions of different signedness: ‘\u001b[01m\u001b[Kconst size_t\u001b[m\u001b[K’ {aka ‘\u001b[01m\u001b[Kconst long unsigned int\u001b[m\u001b[K’} and ‘\u001b[01m\u001b[Kint64_t\u001b[m\u001b[K’ {aka ‘\u001b[01m\u001b[Klong int\u001b[m\u001b[K’} [\u001b[01;35m\u001b[K\u001b]8;;https://gcc.gnu.org/onlinedocs/gcc/Warning-Options.html#index-Wsign-compare\u0007-Wsign-compare\u001b]8;;\u0007\u001b[m\u001b[K]\n",
            "  337 |   if (qargs.cutoff > 0 && \u001b[01;35m\u001b[Kqargs.cutoff < input->size(0)\u001b[m\u001b[K) {\n",
            "      |                           \u001b[01;35m\u001b[K~~~~~~~~~~~~~^~~~~~~~~~~~~~~~\u001b[m\u001b[K\n",
            "\u001b[01m\u001b[Ksrc/fasttext.cc:342:24:\u001b[m\u001b[K \u001b[01;35m\u001b[Kwarning: \u001b[m\u001b[Kcomparison of integer expressions of different signedness: ‘\u001b[01m\u001b[Kint\u001b[m\u001b[K’ and ‘\u001b[01m\u001b[Kstd::vector<int>::size_type\u001b[m\u001b[K’ {aka ‘\u001b[01m\u001b[Klong unsigned int\u001b[m\u001b[K’} [\u001b[01;35m\u001b[K\u001b]8;;https://gcc.gnu.org/onlinedocs/gcc/Warning-Options.html#index-Wsign-compare\u0007-Wsign-compare\u001b]8;;\u0007\u001b[m\u001b[K]\n",
            "  342 |     for (auto i = 0; \u001b[01;35m\u001b[Ki < idx.size()\u001b[m\u001b[K; i++) {\n",
            "      |                      \u001b[01;35m\u001b[K~~^~~~~~~~~~~~\u001b[m\u001b[K\n",
            "\u001b[01m\u001b[Ksrc/fasttext.cc:\u001b[m\u001b[K In member function ‘\u001b[01m\u001b[Kvoid fasttext::FastText::cbow(fasttext::Model::State&, fasttext::real, const std::vector<int>&)\u001b[m\u001b[K’:\n",
            "\u001b[01m\u001b[Ksrc/fasttext.cc:393:25:\u001b[m\u001b[K \u001b[01;35m\u001b[Kwarning: \u001b[m\u001b[Kcomparison of integer expressions of different signedness: ‘\u001b[01m\u001b[Kint32_t\u001b[m\u001b[K’ {aka ‘\u001b[01m\u001b[Kint\u001b[m\u001b[K’} and ‘\u001b[01m\u001b[Kstd::vector<int>::size_type\u001b[m\u001b[K’ {aka ‘\u001b[01m\u001b[Klong unsigned int\u001b[m\u001b[K’} [\u001b[01;35m\u001b[K\u001b]8;;https://gcc.gnu.org/onlinedocs/gcc/Warning-Options.html#index-Wsign-compare\u0007-Wsign-compare\u001b]8;;\u0007\u001b[m\u001b[K]\n",
            "  393 |   for (int32_t w = 0; \u001b[01;35m\u001b[Kw < line.size()\u001b[m\u001b[K; w++) {\n",
            "      |                       \u001b[01;35m\u001b[K~~^~~~~~~~~~~~~\u001b[m\u001b[K\n",
            "\u001b[01m\u001b[Ksrc/fasttext.cc:397:41:\u001b[m\u001b[K \u001b[01;35m\u001b[Kwarning: \u001b[m\u001b[Kcomparison of integer expressions of different signedness: ‘\u001b[01m\u001b[Kint32_t\u001b[m\u001b[K’ {aka ‘\u001b[01m\u001b[Kint\u001b[m\u001b[K’} and ‘\u001b[01m\u001b[Kstd::vector<int>::size_type\u001b[m\u001b[K’ {aka ‘\u001b[01m\u001b[Klong unsigned int\u001b[m\u001b[K’} [\u001b[01;35m\u001b[K\u001b]8;;https://gcc.gnu.org/onlinedocs/gcc/Warning-Options.html#index-Wsign-compare\u0007-Wsign-compare\u001b]8;;\u0007\u001b[m\u001b[K]\n",
            "  397 |       if (c != 0 && w + c >= 0 && \u001b[01;35m\u001b[Kw + c < line.size()\u001b[m\u001b[K) {\n",
            "      |                                   \u001b[01;35m\u001b[K~~~~~~^~~~~~~~~~~~~\u001b[m\u001b[K\n",
            "\u001b[01m\u001b[Ksrc/fasttext.cc:\u001b[m\u001b[K In member function ‘\u001b[01m\u001b[Kvoid fasttext::FastText::skipgram(fasttext::Model::State&, fasttext::real, const std::vector<int>&)\u001b[m\u001b[K’:\n",
            "\u001b[01m\u001b[Ksrc/fasttext.cc:411:25:\u001b[m\u001b[K \u001b[01;35m\u001b[Kwarning: \u001b[m\u001b[Kcomparison of integer expressions of different signedness: ‘\u001b[01m\u001b[Kint32_t\u001b[m\u001b[K’ {aka ‘\u001b[01m\u001b[Kint\u001b[m\u001b[K’} and ‘\u001b[01m\u001b[Kstd::vector<int>::size_type\u001b[m\u001b[K’ {aka ‘\u001b[01m\u001b[Klong unsigned int\u001b[m\u001b[K’} [\u001b[01;35m\u001b[K\u001b]8;;https://gcc.gnu.org/onlinedocs/gcc/Warning-Options.html#index-Wsign-compare\u0007-Wsign-compare\u001b]8;;\u0007\u001b[m\u001b[K]\n",
            "  411 |   for (int32_t w = 0; \u001b[01;35m\u001b[Kw < line.size()\u001b[m\u001b[K; w++) {\n",
            "      |                       \u001b[01;35m\u001b[K~~^~~~~~~~~~~~~\u001b[m\u001b[K\n",
            "\u001b[01m\u001b[Ksrc/fasttext.cc:415:41:\u001b[m\u001b[K \u001b[01;35m\u001b[Kwarning: \u001b[m\u001b[Kcomparison of integer expressions of different signedness: ‘\u001b[01m\u001b[Kint32_t\u001b[m\u001b[K’ {aka ‘\u001b[01m\u001b[Kint\u001b[m\u001b[K’} and ‘\u001b[01m\u001b[Kstd::vector<int>::size_type\u001b[m\u001b[K’ {aka ‘\u001b[01m\u001b[Klong unsigned int\u001b[m\u001b[K’} [\u001b[01;35m\u001b[K\u001b]8;;https://gcc.gnu.org/onlinedocs/gcc/Warning-Options.html#index-Wsign-compare\u0007-Wsign-compare\u001b]8;;\u0007\u001b[m\u001b[K]\n",
            "  415 |       if (c != 0 && w + c >= 0 && \u001b[01;35m\u001b[Kw + c < line.size()\u001b[m\u001b[K) {\n",
            "      |                                   \u001b[01;35m\u001b[K~~~~~~^~~~~~~~~~~~~\u001b[m\u001b[K\n",
            "\u001b[01m\u001b[Ksrc/fasttext.cc:\u001b[m\u001b[K In member function ‘\u001b[01m\u001b[Kvoid fasttext::FastText::getSentenceVector(std::istream&, fasttext::Vector&)\u001b[m\u001b[K’:\n",
            "\u001b[01m\u001b[Ksrc/fasttext.cc:495:27:\u001b[m\u001b[K \u001b[01;35m\u001b[Kwarning: \u001b[m\u001b[Kcomparison of integer expressions of different signedness: ‘\u001b[01m\u001b[Kint32_t\u001b[m\u001b[K’ {aka ‘\u001b[01m\u001b[Kint\u001b[m\u001b[K’} and ‘\u001b[01m\u001b[Kstd::vector<int>::size_type\u001b[m\u001b[K’ {aka ‘\u001b[01m\u001b[Klong unsigned int\u001b[m\u001b[K’} [\u001b[01;35m\u001b[K\u001b]8;;https://gcc.gnu.org/onlinedocs/gcc/Warning-Options.html#index-Wsign-compare\u0007-Wsign-compare\u001b]8;;\u0007\u001b[m\u001b[K]\n",
            "  495 |     for (int32_t i = 0; \u001b[01;35m\u001b[Ki < line.size()\u001b[m\u001b[K; i++) {\n",
            "      |                         \u001b[01;35m\u001b[K~~^~~~~~~~~~~~~\u001b[m\u001b[K\n",
            "\u001b[01m\u001b[Ksrc/fasttext.cc:\u001b[m\u001b[K In member function ‘\u001b[01m\u001b[Kstd::vector<std::pair<std::__cxx11::basic_string<char>, fasttext::Vector> > fasttext::FastText::getNgramVectors(const string&) const\u001b[m\u001b[K’:\n",
            "\u001b[01m\u001b[Ksrc/fasttext.cc:530:25:\u001b[m\u001b[K \u001b[01;35m\u001b[Kwarning: \u001b[m\u001b[Kcomparison of integer expressions of different signedness: ‘\u001b[01m\u001b[Kint32_t\u001b[m\u001b[K’ {aka ‘\u001b[01m\u001b[Kint\u001b[m\u001b[K’} and ‘\u001b[01m\u001b[Kstd::vector<int>::size_type\u001b[m\u001b[K’ {aka ‘\u001b[01m\u001b[Klong unsigned int\u001b[m\u001b[K’} [\u001b[01;35m\u001b[K\u001b]8;;https://gcc.gnu.org/onlinedocs/gcc/Warning-Options.html#index-Wsign-compare\u0007-Wsign-compare\u001b]8;;\u0007\u001b[m\u001b[K]\n",
            "  530 |   for (int32_t i = 0; \u001b[01;35m\u001b[Ki < ngrams.size()\u001b[m\u001b[K; i++) {\n",
            "      |                       \u001b[01;35m\u001b[K~~^~~~~~~~~~~~~~~\u001b[m\u001b[K\n",
            "\u001b[01m\u001b[Ksrc/fasttext.cc:\u001b[m\u001b[K In member function ‘\u001b[01m\u001b[Kstd::vector<std::pair<float, std::__cxx11::basic_string<char> > > fasttext::FastText::getNN(const fasttext::DenseMatrix&, const fasttext::Vector&, int32_t, const std::set<std::__cxx11::basic_string<char> >&)\u001b[m\u001b[K’:\n",
            "\u001b[01m\u001b[Ksrc/fasttext.cc:591:23:\u001b[m\u001b[K \u001b[01;35m\u001b[Kwarning: \u001b[m\u001b[Kcomparison of integer expressions of different signedness: ‘\u001b[01m\u001b[Kstd::vector<std::pair<float, std::__cxx11::basic_string<char> > >::size_type\u001b[m\u001b[K’ {aka ‘\u001b[01m\u001b[Klong unsigned int\u001b[m\u001b[K’} and ‘\u001b[01m\u001b[Kint32_t\u001b[m\u001b[K’ {aka ‘\u001b[01m\u001b[Kint\u001b[m\u001b[K’} [\u001b[01;35m\u001b[K\u001b]8;;https://gcc.gnu.org/onlinedocs/gcc/Warning-Options.html#index-Wsign-compare\u0007-Wsign-compare\u001b]8;;\u0007\u001b[m\u001b[K]\n",
            "  591 |       if (\u001b[01;35m\u001b[Kheap.size() == k\u001b[m\u001b[K && similarity < heap.front().first) {\n",
            "      |           \u001b[01;35m\u001b[K~~~~~~~~~~~~^~~~\u001b[m\u001b[K\n",
            "\u001b[01m\u001b[Ksrc/fasttext.cc:596:23:\u001b[m\u001b[K \u001b[01;35m\u001b[Kwarning: \u001b[m\u001b[Kcomparison of integer expressions of different signedness: ‘\u001b[01m\u001b[Kstd::vector<std::pair<float, std::__cxx11::basic_string<char> > >::size_type\u001b[m\u001b[K’ {aka ‘\u001b[01m\u001b[Klong unsigned int\u001b[m\u001b[K’} and ‘\u001b[01m\u001b[Kint32_t\u001b[m\u001b[K’ {aka ‘\u001b[01m\u001b[Kint\u001b[m\u001b[K’} [\u001b[01;35m\u001b[K\u001b]8;;https://gcc.gnu.org/onlinedocs/gcc/Warning-Options.html#index-Wsign-compare\u0007-Wsign-compare\u001b]8;;\u0007\u001b[m\u001b[K]\n",
            "  596 |       if (\u001b[01;35m\u001b[Kheap.size() > k\u001b[m\u001b[K) {\n",
            "      |           \u001b[01;35m\u001b[K~~~~~~~~~~~~^~~\u001b[m\u001b[K\n",
            "\u001b[01m\u001b[Ksrc/fasttext.cc:\u001b[m\u001b[K In member function ‘\u001b[01m\u001b[Kstd::shared_ptr<fasttext::Matrix> fasttext::FastText::getInputMatrixFromFile(const string&) const\u001b[m\u001b[K’:\n",
            "\u001b[01m\u001b[Ksrc/fasttext.cc:696:24:\u001b[m\u001b[K \u001b[01;35m\u001b[Kwarning: \u001b[m\u001b[Kcomparison of integer expressions of different signedness: ‘\u001b[01m\u001b[Ksize_t\u001b[m\u001b[K’ {aka ‘\u001b[01m\u001b[Klong unsigned int\u001b[m\u001b[K’} and ‘\u001b[01m\u001b[Kint64_t\u001b[m\u001b[K’ {aka ‘\u001b[01m\u001b[Klong int\u001b[m\u001b[K’} [\u001b[01;35m\u001b[K\u001b]8;;https://gcc.gnu.org/onlinedocs/gcc/Warning-Options.html#index-Wsign-compare\u0007-Wsign-compare\u001b]8;;\u0007\u001b[m\u001b[K]\n",
            "  696 |   for (size_t i = 0; \u001b[01;35m\u001b[Ki < n\u001b[m\u001b[K; i++) {\n",
            "      |                      \u001b[01;35m\u001b[K~~^~~\u001b[m\u001b[K\n",
            "\u001b[01m\u001b[Ksrc/fasttext.cc:701:26:\u001b[m\u001b[K \u001b[01;35m\u001b[Kwarning: \u001b[m\u001b[Kcomparison of integer expressions of different signedness: ‘\u001b[01m\u001b[Ksize_t\u001b[m\u001b[K’ {aka ‘\u001b[01m\u001b[Klong unsigned int\u001b[m\u001b[K’} and ‘\u001b[01m\u001b[Kint64_t\u001b[m\u001b[K’ {aka ‘\u001b[01m\u001b[Klong int\u001b[m\u001b[K’} [\u001b[01;35m\u001b[K\u001b]8;;https://gcc.gnu.org/onlinedocs/gcc/Warning-Options.html#index-Wsign-compare\u0007-Wsign-compare\u001b]8;;\u0007\u001b[m\u001b[K]\n",
            "  701 |     for (size_t j = 0; \u001b[01;35m\u001b[Kj < dim\u001b[m\u001b[K; j++) {\n",
            "      |                        \u001b[01;35m\u001b[K~~^~~~~\u001b[m\u001b[K\n",
            "\u001b[01m\u001b[Ksrc/fasttext.cc:713:24:\u001b[m\u001b[K \u001b[01;35m\u001b[Kwarning: \u001b[m\u001b[Kcomparison of integer expressions of different signedness: ‘\u001b[01m\u001b[Ksize_t\u001b[m\u001b[K’ {aka ‘\u001b[01m\u001b[Klong unsigned int\u001b[m\u001b[K’} and ‘\u001b[01m\u001b[Kint64_t\u001b[m\u001b[K’ {aka ‘\u001b[01m\u001b[Klong int\u001b[m\u001b[K’} [\u001b[01;35m\u001b[K\u001b]8;;https://gcc.gnu.org/onlinedocs/gcc/Warning-Options.html#index-Wsign-compare\u0007-Wsign-compare\u001b]8;;\u0007\u001b[m\u001b[K]\n",
            "  713 |   for (size_t i = 0; \u001b[01;35m\u001b[Ki < n\u001b[m\u001b[K; i++) {\n",
            "      |                      \u001b[01;35m\u001b[K~~^~~\u001b[m\u001b[K\n",
            "\u001b[01m\u001b[Ksrc/fasttext.cc:718:26:\u001b[m\u001b[K \u001b[01;35m\u001b[Kwarning: \u001b[m\u001b[Kcomparison of integer expressions of different signedness: ‘\u001b[01m\u001b[Ksize_t\u001b[m\u001b[K’ {aka ‘\u001b[01m\u001b[Klong unsigned int\u001b[m\u001b[K’} and ‘\u001b[01m\u001b[Kint64_t\u001b[m\u001b[K’ {aka ‘\u001b[01m\u001b[Klong int\u001b[m\u001b[K’} [\u001b[01;35m\u001b[K\u001b]8;;https://gcc.gnu.org/onlinedocs/gcc/Warning-Options.html#index-Wsign-compare\u0007-Wsign-compare\u001b]8;;\u0007\u001b[m\u001b[K]\n",
            "  718 |     for (size_t j = 0; \u001b[01;35m\u001b[Kj < dim\u001b[m\u001b[K; j++) {\n",
            "      |                        \u001b[01;35m\u001b[K~~^~~~~\u001b[m\u001b[K\n",
            "\u001b[01m\u001b[Ksrc/fasttext.cc:\u001b[m\u001b[K In member function ‘\u001b[01m\u001b[Kvoid fasttext::FastText::startThreads(const TrainCallback&)\u001b[m\u001b[K’:\n",
            "\u001b[01m\u001b[Ksrc/fasttext.cc:803:25:\u001b[m\u001b[K \u001b[01;35m\u001b[Kwarning: \u001b[m\u001b[Kcomparison of integer expressions of different signedness: ‘\u001b[01m\u001b[Kint32_t\u001b[m\u001b[K’ {aka ‘\u001b[01m\u001b[Kint\u001b[m\u001b[K’} and ‘\u001b[01m\u001b[Kstd::vector<std::thread>::size_type\u001b[m\u001b[K’ {aka ‘\u001b[01m\u001b[Klong unsigned int\u001b[m\u001b[K’} [\u001b[01;35m\u001b[K\u001b]8;;https://gcc.gnu.org/onlinedocs/gcc/Warning-Options.html#index-Wsign-compare\u0007-Wsign-compare\u001b]8;;\u0007\u001b[m\u001b[K]\n",
            "  803 |   for (int32_t i = 0; \u001b[01;35m\u001b[Ki < threads.size()\u001b[m\u001b[K; i++) {\n",
            "      |                       \u001b[01;35m\u001b[K~~^~~~~~~~~~~~~~~~\u001b[m\u001b[K\n",
            "x86_64-linux-gnu-gcc -Wno-unused-result -Wsign-compare -DNDEBUG -g -fwrapv -O2 -Wall -g -fstack-protector-strong -Wformat -Werror=format-security -g -fwrapv -O2 -fPIC -I/usr/local/lib/python3.10/dist-packages/pybind11/include -I/usr/local/lib/python3.10/dist-packages/pybind11/include -Isrc -I/usr/include/python3.10 -c src/loss.cc -o build/temp.linux-x86_64-cpython-310/src/loss.o -DVERSION_INFO=\\\"0.9.2\\\" -std=c++11 -fvisibility=hidden\n",
            "\u001b[01m\u001b[Ksrc/loss.cc:\u001b[m\u001b[K In member function ‘\u001b[01m\u001b[Kvoid fasttext::Loss::findKBest(int32_t, fasttext::real, fasttext::Predictions&, const fasttext::Vector&) const\u001b[m\u001b[K’:\n",
            "\u001b[01m\u001b[Ksrc/loss.cc:83:21:\u001b[m\u001b[K \u001b[01;35m\u001b[Kwarning: \u001b[m\u001b[Kcomparison of integer expressions of different signedness: ‘\u001b[01m\u001b[Kstd::vector<std::pair<float, int> >::size_type\u001b[m\u001b[K’ {aka ‘\u001b[01m\u001b[Klong unsigned int\u001b[m\u001b[K’} and ‘\u001b[01m\u001b[Kint32_t\u001b[m\u001b[K’ {aka ‘\u001b[01m\u001b[Kint\u001b[m\u001b[K’} [\u001b[01;35m\u001b[K\u001b]8;;https://gcc.gnu.org/onlinedocs/gcc/Warning-Options.html#index-Wsign-compare\u0007-Wsign-compare\u001b]8;;\u0007\u001b[m\u001b[K]\n",
            "   83 |     if (\u001b[01;35m\u001b[Kheap.size() == k\u001b[m\u001b[K && std_log(output[i]) < heap.front().first) {\n",
            "      |         \u001b[01;35m\u001b[K~~~~~~~~~~~~^~~~\u001b[m\u001b[K\n",
            "\u001b[01m\u001b[Ksrc/loss.cc:88:21:\u001b[m\u001b[K \u001b[01;35m\u001b[Kwarning: \u001b[m\u001b[Kcomparison of integer expressions of different signedness: ‘\u001b[01m\u001b[Kstd::vector<std::pair<float, int> >::size_type\u001b[m\u001b[K’ {aka ‘\u001b[01m\u001b[Klong unsigned int\u001b[m\u001b[K’} and ‘\u001b[01m\u001b[Kint32_t\u001b[m\u001b[K’ {aka ‘\u001b[01m\u001b[Kint\u001b[m\u001b[K’} [\u001b[01;35m\u001b[K\u001b]8;;https://gcc.gnu.org/onlinedocs/gcc/Warning-Options.html#index-Wsign-compare\u0007-Wsign-compare\u001b]8;;\u0007\u001b[m\u001b[K]\n",
            "   88 |     if (\u001b[01;35m\u001b[Kheap.size() > k\u001b[m\u001b[K) {\n",
            "      |         \u001b[01;35m\u001b[K~~~~~~~~~~~~^~~\u001b[m\u001b[K\n",
            "\u001b[01m\u001b[Ksrc/loss.cc:\u001b[m\u001b[K In member function ‘\u001b[01m\u001b[Kvirtual fasttext::real fasttext::HierarchicalSoftmaxLoss::forward(const std::vector<int>&, int32_t, fasttext::Model::State&, fasttext::real, bool)\u001b[m\u001b[K’:\n",
            "\u001b[01m\u001b[Ksrc/loss.cc:257:25:\u001b[m\u001b[K \u001b[01;35m\u001b[Kwarning: \u001b[m\u001b[Kcomparison of integer expressions of different signedness: ‘\u001b[01m\u001b[Kint32_t\u001b[m\u001b[K’ {aka ‘\u001b[01m\u001b[Kint\u001b[m\u001b[K’} and ‘\u001b[01m\u001b[Kstd::vector<int>::size_type\u001b[m\u001b[K’ {aka ‘\u001b[01m\u001b[Klong unsigned int\u001b[m\u001b[K’} [\u001b[01;35m\u001b[K\u001b]8;;https://gcc.gnu.org/onlinedocs/gcc/Warning-Options.html#index-Wsign-compare\u0007-Wsign-compare\u001b]8;;\u0007\u001b[m\u001b[K]\n",
            "  257 |   for (int32_t i = 0; \u001b[01;35m\u001b[Ki < pathToRoot.size()\u001b[m\u001b[K; i++) {\n",
            "      |                       \u001b[01;35m\u001b[K~~^~~~~~~~~~~~~~~~~~~\u001b[m\u001b[K\n",
            "\u001b[01m\u001b[Ksrc/loss.cc:\u001b[m\u001b[K In member function ‘\u001b[01m\u001b[Kvoid fasttext::HierarchicalSoftmaxLoss::dfs(int32_t, fasttext::real, int32_t, fasttext::real, fasttext::Predictions&, const fasttext::Vector&) const\u001b[m\u001b[K’:\n",
            "\u001b[01m\u001b[Ksrc/loss.cc:282:19:\u001b[m\u001b[K \u001b[01;35m\u001b[Kwarning: \u001b[m\u001b[Kcomparison of integer expressions of different signedness: ‘\u001b[01m\u001b[Kstd::vector<std::pair<float, int> >::size_type\u001b[m\u001b[K’ {aka ‘\u001b[01m\u001b[Klong unsigned int\u001b[m\u001b[K’} and ‘\u001b[01m\u001b[Kint32_t\u001b[m\u001b[K’ {aka ‘\u001b[01m\u001b[Kint\u001b[m\u001b[K’} [\u001b[01;35m\u001b[K\u001b]8;;https://gcc.gnu.org/onlinedocs/gcc/Warning-Options.html#index-Wsign-compare\u0007-Wsign-compare\u001b]8;;\u0007\u001b[m\u001b[K]\n",
            "  282 |   if (\u001b[01;35m\u001b[Kheap.size() == k\u001b[m\u001b[K && score < heap.front().first) {\n",
            "      |       \u001b[01;35m\u001b[K~~~~~~~~~~~~^~~~\u001b[m\u001b[K\n",
            "\u001b[01m\u001b[Ksrc/loss.cc:289:21:\u001b[m\u001b[K \u001b[01;35m\u001b[Kwarning: \u001b[m\u001b[Kcomparison of integer expressions of different signedness: ‘\u001b[01m\u001b[Kstd::vector<std::pair<float, int> >::size_type\u001b[m\u001b[K’ {aka ‘\u001b[01m\u001b[Klong unsigned int\u001b[m\u001b[K’} and ‘\u001b[01m\u001b[Kint32_t\u001b[m\u001b[K’ {aka ‘\u001b[01m\u001b[Kint\u001b[m\u001b[K’} [\u001b[01;35m\u001b[K\u001b]8;;https://gcc.gnu.org/onlinedocs/gcc/Warning-Options.html#index-Wsign-compare\u0007-Wsign-compare\u001b]8;;\u0007\u001b[m\u001b[K]\n",
            "  289 |     if (\u001b[01;35m\u001b[Kheap.size() > k\u001b[m\u001b[K) {\n",
            "      |         \u001b[01;35m\u001b[K~~~~~~~~~~~~^~~\u001b[m\u001b[K\n",
            "x86_64-linux-gnu-gcc -Wno-unused-result -Wsign-compare -DNDEBUG -g -fwrapv -O2 -Wall -g -fstack-protector-strong -Wformat -Werror=format-security -g -fwrapv -O2 -fPIC -I/usr/local/lib/python3.10/dist-packages/pybind11/include -I/usr/local/lib/python3.10/dist-packages/pybind11/include -Isrc -I/usr/include/python3.10 -c src/main.cc -o build/temp.linux-x86_64-cpython-310/src/main.o -DVERSION_INFO=\\\"0.9.2\\\" -std=c++11 -fvisibility=hidden\n",
            "x86_64-linux-gnu-gcc -Wno-unused-result -Wsign-compare -DNDEBUG -g -fwrapv -O2 -Wall -g -fstack-protector-strong -Wformat -Werror=format-security -g -fwrapv -O2 -fPIC -I/usr/local/lib/python3.10/dist-packages/pybind11/include -I/usr/local/lib/python3.10/dist-packages/pybind11/include -Isrc -I/usr/include/python3.10 -c src/matrix.cc -o build/temp.linux-x86_64-cpython-310/src/matrix.o -DVERSION_INFO=\\\"0.9.2\\\" -std=c++11 -fvisibility=hidden\n",
            "x86_64-linux-gnu-gcc -Wno-unused-result -Wsign-compare -DNDEBUG -g -fwrapv -O2 -Wall -g -fstack-protector-strong -Wformat -Werror=format-security -g -fwrapv -O2 -fPIC -I/usr/local/lib/python3.10/dist-packages/pybind11/include -I/usr/local/lib/python3.10/dist-packages/pybind11/include -Isrc -I/usr/include/python3.10 -c src/meter.cc -o build/temp.linux-x86_64-cpython-310/src/meter.o -DVERSION_INFO=\\\"0.9.2\\\" -std=c++11 -fvisibility=hidden\n",
            "x86_64-linux-gnu-gcc -Wno-unused-result -Wsign-compare -DNDEBUG -g -fwrapv -O2 -Wall -g -fstack-protector-strong -Wformat -Werror=format-security -g -fwrapv -O2 -fPIC -I/usr/local/lib/python3.10/dist-packages/pybind11/include -I/usr/local/lib/python3.10/dist-packages/pybind11/include -Isrc -I/usr/include/python3.10 -c src/model.cc -o build/temp.linux-x86_64-cpython-310/src/model.o -DVERSION_INFO=\\\"0.9.2\\\" -std=c++11 -fvisibility=hidden\n",
            "x86_64-linux-gnu-gcc -Wno-unused-result -Wsign-compare -DNDEBUG -g -fwrapv -O2 -Wall -g -fstack-protector-strong -Wformat -Werror=format-security -g -fwrapv -O2 -fPIC -I/usr/local/lib/python3.10/dist-packages/pybind11/include -I/usr/local/lib/python3.10/dist-packages/pybind11/include -Isrc -I/usr/include/python3.10 -c src/productquantizer.cc -o build/temp.linux-x86_64-cpython-310/src/productquantizer.o -DVERSION_INFO=\\\"0.9.2\\\" -std=c++11 -fvisibility=hidden\n",
            "\u001b[01m\u001b[Ksrc/productquantizer.cc:\u001b[m\u001b[K In member function ‘\u001b[01m\u001b[Kvoid fasttext::ProductQuantizer::load(std::istream&)\u001b[m\u001b[K’:\n",
            "\u001b[01m\u001b[Ksrc/productquantizer.cc:246:22:\u001b[m\u001b[K \u001b[01;35m\u001b[Kwarning: \u001b[m\u001b[Kcomparison of integer expressions of different signedness: ‘\u001b[01m\u001b[Kint\u001b[m\u001b[K’ and ‘\u001b[01m\u001b[Kstd::vector<float>::size_type\u001b[m\u001b[K’ {aka ‘\u001b[01m\u001b[Klong unsigned int\u001b[m\u001b[K’} [\u001b[01;35m\u001b[K\u001b]8;;https://gcc.gnu.org/onlinedocs/gcc/Warning-Options.html#index-Wsign-compare\u0007-Wsign-compare\u001b]8;;\u0007\u001b[m\u001b[K]\n",
            "  246 |   for (auto i = 0; \u001b[01;35m\u001b[Ki < centroids_.size()\u001b[m\u001b[K; i++) {\n",
            "      |                    \u001b[01;35m\u001b[K~~^~~~~~~~~~~~~~~~~~~\u001b[m\u001b[K\n",
            "x86_64-linux-gnu-gcc -Wno-unused-result -Wsign-compare -DNDEBUG -g -fwrapv -O2 -Wall -g -fstack-protector-strong -Wformat -Werror=format-security -g -fwrapv -O2 -fPIC -I/usr/local/lib/python3.10/dist-packages/pybind11/include -I/usr/local/lib/python3.10/dist-packages/pybind11/include -Isrc -I/usr/include/python3.10 -c src/quantmatrix.cc -o build/temp.linux-x86_64-cpython-310/src/quantmatrix.o -DVERSION_INFO=\\\"0.9.2\\\" -std=c++11 -fvisibility=hidden\n",
            "x86_64-linux-gnu-gcc -Wno-unused-result -Wsign-compare -DNDEBUG -g -fwrapv -O2 -Wall -g -fstack-protector-strong -Wformat -Werror=format-security -g -fwrapv -O2 -fPIC -I/usr/local/lib/python3.10/dist-packages/pybind11/include -I/usr/local/lib/python3.10/dist-packages/pybind11/include -Isrc -I/usr/include/python3.10 -c src/utils.cc -o build/temp.linux-x86_64-cpython-310/src/utils.o -DVERSION_INFO=\\\"0.9.2\\\" -std=c++11 -fvisibility=hidden\n",
            "x86_64-linux-gnu-gcc -Wno-unused-result -Wsign-compare -DNDEBUG -g -fwrapv -O2 -Wall -g -fstack-protector-strong -Wformat -Werror=format-security -g -fwrapv -O2 -fPIC -I/usr/local/lib/python3.10/dist-packages/pybind11/include -I/usr/local/lib/python3.10/dist-packages/pybind11/include -Isrc -I/usr/include/python3.10 -c src/vector.cc -o build/temp.linux-x86_64-cpython-310/src/vector.o -DVERSION_INFO=\\\"0.9.2\\\" -std=c++11 -fvisibility=hidden\n",
            "x86_64-linux-gnu-g++ -shared -Wl,-O1 -Wl,-Bsymbolic-functions -Wl,-Bsymbolic-functions -g -fwrapv -O2 build/temp.linux-x86_64-cpython-310/python/fasttext_module/fasttext/pybind/fasttext_pybind.o build/temp.linux-x86_64-cpython-310/src/args.o build/temp.linux-x86_64-cpython-310/src/autotune.o build/temp.linux-x86_64-cpython-310/src/densematrix.o build/temp.linux-x86_64-cpython-310/src/dictionary.o build/temp.linux-x86_64-cpython-310/src/fasttext.o build/temp.linux-x86_64-cpython-310/src/loss.o build/temp.linux-x86_64-cpython-310/src/main.o build/temp.linux-x86_64-cpython-310/src/matrix.o build/temp.linux-x86_64-cpython-310/src/meter.o build/temp.linux-x86_64-cpython-310/src/model.o build/temp.linux-x86_64-cpython-310/src/productquantizer.o build/temp.linux-x86_64-cpython-310/src/quantmatrix.o build/temp.linux-x86_64-cpython-310/src/utils.o build/temp.linux-x86_64-cpython-310/src/vector.o -L/usr/lib/x86_64-linux-gnu -o build/lib.linux-x86_64-cpython-310/fasttext_pybind.cpython-310-x86_64-linux-gnu.so\n",
            "creating build/bdist.linux-x86_64\n",
            "creating build/bdist.linux-x86_64/egg\n",
            "creating build/bdist.linux-x86_64/egg/fasttext\n",
            "copying build/lib.linux-x86_64-cpython-310/fasttext/__init__.py -> build/bdist.linux-x86_64/egg/fasttext\n",
            "creating build/bdist.linux-x86_64/egg/fasttext/util\n",
            "copying build/lib.linux-x86_64-cpython-310/fasttext/util/__init__.py -> build/bdist.linux-x86_64/egg/fasttext/util\n",
            "copying build/lib.linux-x86_64-cpython-310/fasttext/util/util.py -> build/bdist.linux-x86_64/egg/fasttext/util\n",
            "copying build/lib.linux-x86_64-cpython-310/fasttext/FastText.py -> build/bdist.linux-x86_64/egg/fasttext\n",
            "creating build/bdist.linux-x86_64/egg/fasttext/tests\n",
            "copying build/lib.linux-x86_64-cpython-310/fasttext/tests/__init__.py -> build/bdist.linux-x86_64/egg/fasttext/tests\n",
            "copying build/lib.linux-x86_64-cpython-310/fasttext/tests/test_script.py -> build/bdist.linux-x86_64/egg/fasttext/tests\n",
            "copying build/lib.linux-x86_64-cpython-310/fasttext/tests/test_configurations.py -> build/bdist.linux-x86_64/egg/fasttext/tests\n",
            "copying build/lib.linux-x86_64-cpython-310/fasttext_pybind.cpython-310-x86_64-linux-gnu.so -> build/bdist.linux-x86_64/egg\n",
            "byte-compiling build/bdist.linux-x86_64/egg/fasttext/__init__.py to __init__.cpython-310.pyc\n",
            "byte-compiling build/bdist.linux-x86_64/egg/fasttext/util/__init__.py to __init__.cpython-310.pyc\n",
            "byte-compiling build/bdist.linux-x86_64/egg/fasttext/util/util.py to util.cpython-310.pyc\n",
            "byte-compiling build/bdist.linux-x86_64/egg/fasttext/FastText.py to FastText.cpython-310.pyc\n",
            "byte-compiling build/bdist.linux-x86_64/egg/fasttext/tests/__init__.py to __init__.cpython-310.pyc\n",
            "byte-compiling build/bdist.linux-x86_64/egg/fasttext/tests/test_script.py to test_script.cpython-310.pyc\n",
            "byte-compiling build/bdist.linux-x86_64/egg/fasttext/tests/test_configurations.py to test_configurations.cpython-310.pyc\n",
            "creating stub loader for fasttext_pybind.cpython-310-x86_64-linux-gnu.so\n",
            "byte-compiling build/bdist.linux-x86_64/egg/fasttext_pybind.py to fasttext_pybind.cpython-310.pyc\n",
            "creating build/bdist.linux-x86_64/egg/EGG-INFO\n",
            "copying python/fasttext_module/fasttext.egg-info/PKG-INFO -> build/bdist.linux-x86_64/egg/EGG-INFO\n",
            "copying python/fasttext_module/fasttext.egg-info/SOURCES.txt -> build/bdist.linux-x86_64/egg/EGG-INFO\n",
            "copying python/fasttext_module/fasttext.egg-info/dependency_links.txt -> build/bdist.linux-x86_64/egg/EGG-INFO\n",
            "copying python/fasttext_module/fasttext.egg-info/not-zip-safe -> build/bdist.linux-x86_64/egg/EGG-INFO\n",
            "copying python/fasttext_module/fasttext.egg-info/requires.txt -> build/bdist.linux-x86_64/egg/EGG-INFO\n",
            "copying python/fasttext_module/fasttext.egg-info/top_level.txt -> build/bdist.linux-x86_64/egg/EGG-INFO\n",
            "writing build/bdist.linux-x86_64/egg/EGG-INFO/native_libs.txt\n",
            "creating dist\n",
            "creating 'dist/fasttext-0.9.2-py3.10-linux-x86_64.egg' and adding 'build/bdist.linux-x86_64/egg' to it\n",
            "removing 'build/bdist.linux-x86_64/egg' (and everything under it)\n",
            "Processing fasttext-0.9.2-py3.10-linux-x86_64.egg\n",
            "creating /usr/local/lib/python3.10/dist-packages/fasttext-0.9.2-py3.10-linux-x86_64.egg\n",
            "Extracting fasttext-0.9.2-py3.10-linux-x86_64.egg to /usr/local/lib/python3.10/dist-packages\n",
            "Adding fasttext 0.9.2 to easy-install.pth file\n",
            "\n",
            "Installed /usr/local/lib/python3.10/dist-packages/fasttext-0.9.2-py3.10-linux-x86_64.egg\n",
            "Processing dependencies for fasttext==0.9.2\n",
            "Searching for numpy==1.23.5\n",
            "Best match: numpy 1.23.5\n",
            "Adding numpy 1.23.5 to easy-install.pth file\n",
            "Installing f2py script to /usr/local/bin\n",
            "Installing f2py3 script to /usr/local/bin\n",
            "Installing f2py3.10 script to /usr/local/bin\n",
            "\n",
            "Using /usr/local/lib/python3.10/dist-packages\n",
            "Searching for setuptools==67.7.2\n",
            "Best match: setuptools 67.7.2\n",
            "Adding setuptools 67.7.2 to easy-install.pth file\n",
            "\n",
            "Using /usr/local/lib/python3.10/dist-packages\n",
            "Searching for pybind11==2.11.1\n",
            "Best match: pybind11 2.11.1\n",
            "Adding pybind11 2.11.1 to easy-install.pth file\n",
            "Installing pybind11-config script to /usr/local/bin\n",
            "\n",
            "Using /usr/local/lib/python3.10/dist-packages\n",
            "Finished processing dependencies for fasttext==0.9.2\n"
          ]
        }
      ]
    },
    {
      "cell_type": "code",
      "source": [
        "!make"
      ],
      "metadata": {
        "colab": {
          "base_uri": "https://localhost:8080/"
        },
        "id": "v8Pao4Fdx0iK",
        "outputId": "97fec376-58cb-41a5-a328-52d273d064a2"
      },
      "execution_count": null,
      "outputs": [
        {
          "output_type": "stream",
          "name": "stdout",
          "text": [
            "c++ -pthread -std=c++11 -march=native -O3 -funroll-loops -DNDEBUG -c src/args.cc\n",
            "c++ -pthread -std=c++11 -march=native -O3 -funroll-loops -DNDEBUG -c src/autotune.cc\n",
            "c++ -pthread -std=c++11 -march=native -O3 -funroll-loops -DNDEBUG -c src/matrix.cc\n",
            "c++ -pthread -std=c++11 -march=native -O3 -funroll-loops -DNDEBUG -c src/dictionary.cc\n",
            "c++ -pthread -std=c++11 -march=native -O3 -funroll-loops -DNDEBUG -c src/loss.cc\n",
            "c++ -pthread -std=c++11 -march=native -O3 -funroll-loops -DNDEBUG -c src/productquantizer.cc\n",
            "c++ -pthread -std=c++11 -march=native -O3 -funroll-loops -DNDEBUG -c src/densematrix.cc\n",
            "c++ -pthread -std=c++11 -march=native -O3 -funroll-loops -DNDEBUG -c src/quantmatrix.cc\n",
            "c++ -pthread -std=c++11 -march=native -O3 -funroll-loops -DNDEBUG -c src/vector.cc\n",
            "c++ -pthread -std=c++11 -march=native -O3 -funroll-loops -DNDEBUG -c src/model.cc\n",
            "c++ -pthread -std=c++11 -march=native -O3 -funroll-loops -DNDEBUG -c src/utils.cc\n",
            "c++ -pthread -std=c++11 -march=native -O3 -funroll-loops -DNDEBUG -c src/meter.cc\n",
            "c++ -pthread -std=c++11 -march=native -O3 -funroll-loops -DNDEBUG -c src/fasttext.cc\n",
            "c++ -pthread -std=c++11 -march=native -O3 -funroll-loops -DNDEBUG args.o autotune.o matrix.o dictionary.o loss.o productquantizer.o densematrix.o quantmatrix.o vector.o model.o utils.o meter.o fasttext.o src/main.cc -o fasttext\n"
          ]
        }
      ]
    },
    {
      "cell_type": "code",
      "source": [
        "cd ./../"
      ],
      "metadata": {
        "colab": {
          "base_uri": "https://localhost:8080/"
        },
        "id": "wF-Aq4gHzFfd",
        "outputId": "e6f092f8-430d-4dbe-a5d9-c8ce869775cf"
      },
      "execution_count": null,
      "outputs": [
        {
          "output_type": "stream",
          "name": "stdout",
          "text": [
            "/content\n"
          ]
        }
      ]
    },
    {
      "cell_type": "code",
      "source": [
        "!./fastText/fasttext  supervised -input ft.txt -output model -loss ns -dim 64 -lr .01 -epoch 10"
      ],
      "metadata": {
        "colab": {
          "base_uri": "https://localhost:8080/"
        },
        "id": "ujgHRlx2w8lX",
        "outputId": "2a4a78d8-c777-473e-f49b-a9efd082a0cb"
      },
      "execution_count": null,
      "outputs": [
        {
          "output_type": "stream",
          "name": "stdout",
          "text": [
            "Read 116M words\n",
            "Number of words:  10088\n",
            "Number of labels: 10087\n",
            "Progress: 100.0% words/sec/thread:  542524 lr:  0.000000 avg.loss:  1.809946 ETA:   0h 0m 0s\n"
          ]
        }
      ]
    },
    {
      "cell_type": "code",
      "source": [
        "from transformers import LlamaTokenizerFast\n",
        "import fasttext\n",
        "import numpy as np\n",
        "\n",
        "class FastTextGPT2Classifier:\n",
        "    def __init__(self, model_path, tokenizer_path):\n",
        "        self.model = fasttext.load_model(model_path)\n",
        "        self.tokenizer = LlamaTokenizerFast.from_pretrained(tokenizer_path)\n",
        "\n",
        "    def apply_repetition_penalty(self, labels, probabilities, used_tokens, penalty_scale=1.8):\n",
        "        adjusted_probabilities = []\n",
        "        for label, prob in zip(labels, probabilities):\n",
        "            token_id = int(label.replace(\"__label__\", \"\").strip())\n",
        "            if token_id in used_tokens:\n",
        "                adjusted_prob = prob / penalty_scale\n",
        "            else:\n",
        "                adjusted_prob = prob\n",
        "            adjusted_probabilities.append(adjusted_prob)\n",
        "        return adjusted_probabilities\n",
        "\n",
        "    def predict_sequence(self, text, sequence_length=200, temperature=.9, penalty_scale=1.9):\n",
        "        current_text = text\n",
        "        generated_sequence = []\n",
        "        used_tokens = set()\n",
        "        ids = self.tokenizer(current_text)['input_ids']\n",
        "        for _ in range(sequence_length):\n",
        "\n",
        "            ids_str = ' '.join([str(i) for i in ids])\n",
        "\n",
        "            labels, probabilities = self.model.predict(ids_str, k=100)\n",
        "            probabilities = np.array(probabilities)\n",
        "            probabilities = np.exp(np.log(probabilities) / temperature)\n",
        "            probabilities /= probabilities.sum()\n",
        "\n",
        "            adjusted_probabilities = self.apply_repetition_penalty(labels, probabilities, used_tokens, penalty_scale)\n",
        "            next_token_id = int(labels[np.argmax(adjusted_probabilities)].replace(\"__label__\", \"\").strip())\n",
        "\n",
        "            generated_sequence.append(next_token_id)\n",
        "            used_tokens.add(next_token_id)\n",
        "            ids.append(next_token_id)\n",
        "\n",
        "        generated_text = self.tokenizer.decode(ids)\n",
        "        return generated_text\n",
        "\n",
        "classifier = FastTextGPT2Classifier(\"./model.bin\", \"ccore/LLAMA-2-460m\")\n",
        "generated_text = classifier.predict_sequence(\"Hello, how are you? \", sequence_length=50)\n",
        "print(generated_text)\n"
      ],
      "metadata": {
        "colab": {
          "base_uri": "https://localhost:8080/"
        },
        "id": "BiTUbcDxsUnA",
        "outputId": "1c96ce9e-8e0e-4072-b43c-4bd0568eeced"
      },
      "execution_count": null,
      "outputs": [
        {
          "output_type": "stream",
          "name": "stderr",
          "text": [
            "Warning : `load_model` does not return WordVectorModel or SupervisedModel any more, but a `FastText` object which is very similar.\n"
          ]
        },
        {
          "output_type": "stream",
          "name": "stdout",
          "text": [
            "<s> Hello, how are you? \n",
            "? You are you1 not know or2. We have to be your like, and us here will find our in a good of the that for this time I me but is all0 no than it..'\n",
            "\n",
            "\n",
            "\n",
            "\n",
            "\n",
            "\n"
          ]
        }
      ]
    },
    {
      "cell_type": "code",
      "source": [
        "ls"
      ],
      "metadata": {
        "colab": {
          "base_uri": "https://localhost:8080/"
        },
        "id": "ztyQxlrs3k27",
        "outputId": "06e1ead6-3a67-4176-98b3-22e8cb772c20"
      },
      "execution_count": null,
      "outputs": [
        {
          "output_type": "stream",
          "name": "stdout",
          "text": [
            "\u001b[0m\u001b[01;34mfastText\u001b[0m/  ft.txt  model.bin  model.vec  \u001b[01;34msample_data\u001b[0m/  \u001b[01;34msimplebooks\u001b[0m/  simplebooks.zip\n"
          ]
        }
      ]
    }
  ]
}